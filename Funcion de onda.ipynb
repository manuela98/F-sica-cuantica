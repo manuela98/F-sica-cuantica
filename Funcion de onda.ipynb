{
 "cells": [
  {
   "cell_type": "code",
   "execution_count": 33,
   "metadata": {
    "collapsed": false
   },
   "outputs": [
    {
     "data": {
      "image/png": "[encoded data removed]",
      "text/plain": [
       "<matplotlib.figure.Figure at 0x7ff74cc9a2d0>"
      ]
     },
     "metadata": {},
     "output_type": "display_data"
    }
   ],
   "source": [
    "import numpy as np\n",
    "import matplotlib.pylab as plt\n",
    "from math import fabs\n",
    "\n",
    "def fwell(x,prm):\n",
    "    l = prm[0]\n",
    "    v0 = prm[1]\n",
    "    E = prm[2]\n",
    "    \n",
    "    if fabs(x)<=l/2.:\n",
    "        return -E\n",
    "    else:\n",
    "        return v0-E\n",
    "        \n",
    "\n",
    "\n",
    "def numerov(xi,xf,n,f,phi0,prm):\n",
    "    \n",
    "    h = (xf-xi)/(1.0*n)\n",
    "    x = np.arange(xi,xf+h,h)\n",
    "    phi = np.zeros([np.shape(x)[0]])\n",
    "    phi[0]=phi0[0]\n",
    "    phi[1]=phi0[1]\n",
    "    \n",
    "    for i in range(2,np.shape(x)[0]):\n",
    "       \n",
    "        \n",
    "        aux1 = 2.*phi[i-1]*(1.+5.*h**2*f(x[i-1],prm)/12.)\n",
    "        aux2 = phi[i-2]*(1-h**2*f(x[i-2],prm)/12.)\n",
    "        aux3 = 1-h**2*f(x[i],prm)/12. # x+h = x[i]\n",
    "        phi[i] =(aux1-aux2)/aux3\n",
    "        \n",
    "        \n",
    "        \n",
    "        \n",
    "    return x,phi\n",
    "\n",
    "\n",
    "\n",
    "        \n",
    "\n",
    "L = 4.\n",
    "V0 = 30.\n",
    "E = 0.517660570145\n",
    "x,phi= numerov(-L,L,500,fwell,[0.,1e-8],[L,V0,E])\n",
    "plt.plot(x,phi)\n",
    "plt.show()"
   ]
  },
  {
   "cell_type": "code",
   "execution_count": 40,
   "metadata": {
    "collapsed": false
   },
   "outputs": [
    {
     "data": {
      "image/png": "[encoded data removed]",
      "text/plain": [
       "<matplotlib.figure.Figure at 0x7ff747d79050>"
      ]
     },
     "metadata": {},
     "output_type": "display_data"
    }
   ],
   "source": [
    "import numpy as np\n",
    "import matplotlib.pylab as plt\n",
    "from math import fabs\n",
    "\n",
    "def fwell(x,prm):\n",
    "    l = prm[0]\n",
    "    v0 = prm[1]\n",
    "    E = prm[2]\n",
    "    \n",
    "    if fabs(x)<=l/2.:\n",
    "        return -E\n",
    "    else:\n",
    "        return v0-E\n",
    "        \n",
    "\n",
    "\n",
    "def numerov(xi,xf,n,f,phi0,prm):\n",
    "\n",
    "    \n",
    "    h = (xf-xi)/(1.0*n)\n",
    "    x = np.arange(xi,xf+h,h)\n",
    "    phi = np.zeros([np.shape(x)[0]])\n",
    "    phi[0]=phi0[0]\n",
    "    phi[1]=phi0[1]\n",
    "    \n",
    "    for i in range(2,np.shape(x)[0]):\n",
    "       \n",
    "        \n",
    "        aux1 = 2.*phi[i-1]*(1.+5.*h**2*f(x[i-1],prm)/12.)\n",
    "        aux2 = phi[i-2]*(1-h**2*f(x[i-2],prm)/12.)\n",
    "        aux3 = 1-h**2*f(x[i],prm)/12. # x+h = x[i]\n",
    "        phi[i] =(aux1-aux2)/aux3\n",
    "        \n",
    "        \n",
    "        \n",
    "        \n",
    "    return x,phi\n",
    "\n",
    "\n",
    "\n",
    "        \n",
    "\n",
    "L = 4.\n",
    "V0 = 30.\n",
    "E = 0.517660570145\n",
    "\n",
    "#E = 0.5\n",
    "x,phi= numerov(-L,L,500,fwell,[0.,1e-8],[L,V0,E])\n",
    "plt.plot(x,phi)\n",
    "plt.show()"
   ]
  },
  {
   "cell_type": "code",
   "execution_count": 39,
   "metadata": {
    "collapsed": false
   },
   "outputs": [
    {
     "name": "stdout",
     "output_type": "stream",
     "text": [
      "El intervalo no da información\n"
     ]
    }
   ],
   "source": [
    "def bis(a0,b0,tol):\n",
    "    # intervalos  0.01\n",
    "    \n",
    "    \n",
    "    fa,_ = numerov(-L,L,500,fwell,[0.,1e-8],[L,V0,a0])\n",
    "    fb,_ = numerov(-L,L,500,fwell,[0.,1e-8],[L,V0,b0])\n",
    "    if fa[-1]*fb[-1]>0.:\n",
    "        return 'El intervalo no da información'\n",
    "    \n",
    "    c=(a0+b0)/2.\n",
    "    fc,_ = numerov(-L,L,500,fwell,[0.,1e-8],[L,V0,c])\n",
    "    while abs(fc[-1]) > tol:\n",
    "        \n",
    "        fa,_ = numerov(-L,L,500,fwell,[0.,1e-8],[L,V0,a0])\n",
    "        fc,_ = numerov(-L,L,500,fwell,[0.,1e-8],[L,V0,c])\n",
    "        \n",
    "        if fa[-1]*fc[-1]<0:\n",
    "            b0 = c\n",
    "        else:\n",
    "            \n",
    "            a0 = c\n",
    "        c = (a0+b0)/2.\n",
    "    return c\n",
    "\n",
    "a0 = 0\n",
    "b0 = 1\n",
    "tol = 10**-6\n",
    "\n",
    "        \n",
    "print(bis(a0,b0,tol))"
   ]
  },
  {
   "cell_type": "code",
   "execution_count": null,
   "metadata": {
    "collapsed": true
   },
   "outputs": [],
   "source": []
  }
 ],
 "metadata": {
  "kernelspec": {
   "display_name": "Python 2",
   "language": "python",
   "name": "python2"
  },
  "language_info": {
   "codemirror_mode": {
    "name": "ipython",
    "version": 2
   },
   "file_extension": ".py",
   "mimetype": "text/x-python",
   "name": "python",
   "nbconvert_exporter": "python",
   "pygments_lexer": "ipython2",
   "version": "2.7.12"
  }
 },
 "nbformat": 4,
 "nbformat_minor": 2
}
