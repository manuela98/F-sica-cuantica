{
 "cells": [
  {
   "cell_type": "markdown",
   "metadata": {},
   "source": [
    "# Funcion de Onda con Valores de Energia manuales solucion numerica Numerov\n",
    "#  Solución  Numerica de problemas  1D\n",
    "\n",
    "En general  la  ecuación de  Schrödinger  independiente del  tiempo en  1D es\n",
    "\n",
    "$-\\frac{\\hbar^2}{2m}\\frac{d^2}{dx^2}\\psi(x)+V(x)\\psi(x)=E\\psi(x)$\n",
    "\n",
    "reescribimos la   ecuación como :\n",
    "$\\frac{d^2}{dx^2}\\psi(x)=\\frac{2m}{\\hbar^2}(V(x)-E)\\psi(x)$.\n",
    "\n",
    "La forma  general  de esta  ecuación es \n",
    "\n",
    "$\\frac{d^2}{dx^2}\\psi(x)=f(x)\\psi(x)$\n",
    "\n",
    "donde\n",
    "\n",
    "$f(x)=\\frac{2m}{\\hbar^2}(V(x)-E)$\n",
    "\n",
    "## El  metodo de  Numerov\n",
    "\n",
    "Es un metodo  numerico  para  resolver  ecuaciones de la   forma $\\frac{d^2}{dx^2}\\psi(x)=f(x)\\psi(x)$\n",
    "\n",
    "\\begin{equation}\n",
    " \\psi(x+h) =\\psi(x)+h\\dot{\\psi}(x)+\\frac{h^2}{2!}\\ddot{\\psi}(x)+\\frac{h^3}{3!}\\dddot{\\psi}(x)+\\frac{h^4}{4!}\\ddddot{\\psi}+\\frac{h^5}{5!}\\dddot{\\ddot{\\psi}}(x)+O(h^6)\n",
    "\\end{equation}\n",
    "\n",
    "\\begin{equation}\n",
    " \\psi(x-h) =\\psi(x)-h\\dot{\\psi}(x)+\\frac{h^2}{2!}\\ddot{\\psi}(x)-\\frac{h^3}{3!}\\dddot{\\psi}(x)+\\frac{h^4}{4!}\\ddddot{\\psi}(x)-\\frac{h^5}{5!}\\dddot{\\ddot{\\psi}}(x)+O(h^6)\n",
    "\\end{equation}\n",
    "\n",
    "Al  sumar estas  dos  ecuaciones  tenemos:\n",
    "\n",
    "\\begin{equation}\n",
    " \\psi(x-h)+\\psi(x+h)-2\\psi(x)=h^2f(x)\\psi(x)+\\frac{h^4}{12}\\ddddot{\\psi}(x)\n",
    "\\end{equation}\n",
    "\n",
    "ahora  podemos   escribir la  cuarta  derivada  como :\n",
    "\n",
    "\\begin{equation}\n",
    "  \\ddddot{\\psi}(x) =\\frac{f(x+h)\\psi(x+h)+f(x-h)\\psi(x-h)-2f(x)\\psi(x)}{h^2}\n",
    "\\end{equation}\n",
    "\n",
    "Finalmente   encontramos  que \n",
    "\n",
    "\\begin{equation}\n",
    " \\psi(x+h) = \\frac{2\\psi(x)[1+\\frac{5}{12}h^2f(x)]-\\psi(x-h)[1+\\frac{h^2}{12}f(x-h)]}{1+\\frac{h^2}{12}f(x+h)}\n",
    "\\end{equation}"
   ]
  },
  {
   "cell_type": "code",
   "execution_count": 13,
   "metadata": {},
   "outputs": [
    {
     "data": {
      "image/png": "[encoded data removed]",
      "text/plain": [
       "<Figure size 432x288 with 1 Axes>"
      ]
     },
     "metadata": {},
     "output_type": "display_data"
    },
    {
     "name": "stdout",
     "output_type": "stream",
     "text": [
      "-4.170312732383483e-07\n"
     ]
    }
   ],
   "source": [
    "import numpy as np\n",
    "import matplotlib.pylab as plt\n",
    "from math import fabs\n",
    "\n",
    "def fwell(x,prm):\n",
    "    l = prm[0]\n",
    "    v0 = prm[1]\n",
    "    E = prm[2]\n",
    "    \n",
    "    if fabs(x)<=l/2.:\n",
    "        return -E\n",
    "    else:\n",
    "        return v0-E\n",
    "        \n",
    "\n",
    "\n",
    "def numerov(xi,xf,n,f,phi0,prm):\n",
    "\n",
    "    \n",
    "    h = (xf-xi)/(1.0*n)\n",
    "    x = np.arange(xi,xf+h,h)\n",
    "    phi = np.zeros([np.shape(x)[0]])\n",
    "    phi[0]=phi0[0]\n",
    "    phi[1]=phi0[1]\n",
    "    \n",
    "    for i in range(2,np.shape(x)[0]):\n",
    "       \n",
    "        \n",
    "        aux1 = 2.*phi[i-1]*(1.+5.*h**2*f(x[i-1],prm)/12.)\n",
    "        aux2 = phi[i-2]*(1-h**2*f(x[i-2],prm)/12.)\n",
    "        aux3 = 1-h**2*f(x[i],prm)/12. # x+h = x[i]\n",
    "        phi[i] =(aux1-aux2)/aux3\n",
    "        \n",
    "        \n",
    "        \n",
    "        \n",
    "    return phi,x\n",
    "\n",
    "\n",
    "\n",
    "        \n",
    "\n",
    "L = 4.\n",
    "V0 = 30.\n",
    "#E = 0.517660570145\n",
    "E = 0.5176605660882259\n",
    "#E = 0.5\n",
    "phi,x= numerov(-L,L,500,fwell,[0.,1e-8],[L,V0,E])\n",
    "plt.plot(x,phi)\n",
    "plt.show()\n",
    "print(phi[-1])"
   ]
  },
  {
   "cell_type": "markdown",
   "metadata": {},
   "source": [
    "# Encontrando las energias de convergencia mediante bisección "
   ]
  },
  {
   "cell_type": "code",
   "execution_count": 2,
   "metadata": {},
   "outputs": [
    {
     "name": "stdout",
     "output_type": "stream",
     "text": [
      "si\n",
      "[0.5176605660882259]\n"
     ]
    }
   ],
   "source": [
    "\n",
    "def bis(a,b,tol):\n",
    "    # intervalos  0.01\n",
    "    Energys = []\n",
    "    x = np.linspace(a,b,10)\n",
    "   \n",
    "    \n",
    "   \n",
    "    for i in range(len(x)-1):\n",
    "        a0 = x[i]\n",
    "        b0 = x[i+1]\n",
    "        fa,_ = numerov(-L,L,500,fwell,[0.,1e-8],[L,V0,a0])\n",
    "        fb,_ = numerov(-L,L,500,fwell,[0.,1e-8],[L,V0,b0])\n",
    "    \n",
    "        if fa[-1]*fb[-1]<0.:\n",
    "            print('si')\n",
    "            c=(a0+b0)/2.\n",
    "            fc,_ = numerov(-L,L,500,fwell,[0.,1e-8],[L,V0,c])\n",
    "            while abs(fc[-1]) > tol:\n",
    "\n",
    "                fa,_ = numerov(-L,L,500,fwell,[0.,1e-8],[L,V0,a0])\n",
    "                fc,_ = numerov(-L,L,500,fwell,[0.,1e-8],[L,V0,c])\n",
    "\n",
    "                if fa[-1]*fc[-1]<0:\n",
    "                    b0 = c\n",
    "                else:\n",
    "                    a0 = c\n",
    "                c = (a0+b0)/2.\n",
    "            Energys +=[c]\n",
    "    \n",
    "    return Energys \n",
    "a = 0\n",
    "b = 1\n",
    "tol = 10**-6\n",
    "\n",
    "        \n",
    "print(bis(a,b,tol))"
   ]
  },
  {
   "cell_type": "markdown",
   "metadata": {},
   "source": [
    "# Módulo de la función de Onda - Integración númerica (Trapesio compuesto)\n"
   ]
  },
  {
   "cell_type": "code",
   "execution_count": 21,
   "metadata": {},
   "outputs": [],
   "source": [
    "def simpson13(phi,x):\n",
    "    #calculamos h\n",
    "    h = x[1]-x[0]\n",
    "    #Inicializamos nuestra varible donde se almacenara las sumas\n",
    "    suma = 0.0\n",
    "    #hacemos un ciclo para ir sumando las areas\n",
    "    for i in range(1,len(x) ):\n",
    "        #calculamos la x\n",
    "        #x = a - h + (2 * h * i)\n",
    "        x = [i]\n",
    "        # si es par se multiplica por 4\n",
    "        if(i % 2 == 0):\n",
    "            suma = suma + 2 *phi[i]\n",
    "        #en caso contrario se multiplica por 2\n",
    "        else:\n",
    "            suma = suma + 4 * phi[i]\n",
    "    #sumamos los el primer elemento y el ultimo\n",
    "    suma = suma + phi[0] + phi[-1]\n",
    "    #Multiplicamos por h/3\n",
    "    rest = suma * (h / 3.)\n",
    "    #Retornamos el resultado\n",
    "    return (rest)\n",
    "phi,x = numerov(-L,L,500,fwell,[0.,1e-8],[L,V0,0.5176605660882259])\n",
    "phi2 = abs(np.array(phi))**2\n",
    "res = simpson13(phi2,x)"
   ]
  },
  {
   "cell_type": "markdown",
   "metadata": {},
   "source": [
    "# Gráfica del módulo de la funcion de onda \n"
   ]
  },
  {
   "cell_type": "code",
   "execution_count": 26,
   "metadata": {},
   "outputs": [
    {
     "data": {
      "text/plain": [
       "[<matplotlib.lines.Line2D at 0x7fdbf2673668>]"
      ]
     },
     "execution_count": 26,
     "metadata": {},
     "output_type": "execute_result"
    },
    {
     "data": {
      "image/png": "[encoded data removed]",
      "text/plain": [
       "<Figure size 432x288 with 1 Axes>"
      ]
     },
     "metadata": {},
     "output_type": "display_data"
    }
   ],
   "source": [
    "phi,x = numerov(-L,L,500,fwell,[0.,1e-8],[L,V0,0.5176605660882259])\n",
    "phi_mod = np.array(phi)/res\n",
    "plt.plot(x,phi_mod)"
   ]
  }
 ],
 "metadata": {
  "kernelspec": {
   "display_name": "Python 3",
   "language": "python",
   "name": "python3"
  },
  "language_info": {
   "codemirror_mode": {
    "name": "ipython",
    "version": 3
   },
   "file_extension": ".py",
   "mimetype": "text/x-python",
   "name": "python",
   "nbconvert_exporter": "python",
   "pygments_lexer": "ipython3",
   "version": "3.6.5"
  }
 },
 "nbformat": 4,
 "nbformat_minor": 2
}
