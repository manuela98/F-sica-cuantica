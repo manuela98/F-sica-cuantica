{
 "cells": [
  {
   "cell_type": "code",
   "execution_count": 1,
   "metadata": {},
   "outputs": [],
   "source": [
    "import numpy as np\n",
    "\n",
    "\n",
    "a = 4.\n",
    "L = 4.*a\n",
    "l = L\n",
    "v0 = 30.\n",
    "\n",
    "Nx = 25\n",
    "Ny = 25 \n",
    "\n",
    "kx = [2.*np.pi/L*i for i in range(-Nx,Nx)]\n",
    "ky = [2.*np.pi/L*i for i in range(-Ny,Ny)]\n",
    "\n",
    "H = np.zeros([np.shape(kx)[0]*np.shape(ky)[0],np.shape(kx)[0]*np.shape(ky)[0]],np.complex)\n",
    "S = np.zeros([np.shape(kx)[0]*np.shape(ky)[0],np.shape(kx)[0]*np.shape(ky)[0]],np.complex)\n",
    "\n",
    "\n",
    "ind = []\n",
    "\n",
    "for i in range(-Nx,Nx):\n",
    "\tfor j in range(-Ny,Ny):\n",
    "\t\tind+=[(i,j)]\n",
    "\n",
    "for n in range(len(ind)):\n",
    "\tfor m in range(len(ind)):\n",
    "\t\t\t# diferente de cero si \n",
    "\t\tif ind[n][0]==ind[m][0] and ind[n][1]==ind[m][1]:\n",
    "\t\t\tH[n,m] = L**2*((2.*np.pi*ind[n][0]/L)**2 +(2.*np.pi*ind[n][1]/L)**2)  #integral del laplaciano \n",
    "\t\t\tS[n,m] = L**2 # integral de energia \n",
    "# INTEGRAL DEL POTENCIAL POR MONTECARLO \n"
   ]
  },
  {
   "cell_type": "code",
   "execution_count": 2,
   "metadata": {},
   "outputs": [
    {
     "name": "stdout",
     "output_type": "stream",
     "text": [
      "(16065.749665742938+0j)\n"
     ]
    },
    {
     "name": "stderr",
     "output_type": "stream",
     "text": [
      "/home/manuela/anaconda3/lib/python3.6/site-packages/ipykernel_launcher.py:37: ComplexWarning: Casting complex values to real discards the imaginary part\n"
     ]
    },
    {
     "data": {
      "text/plain": [
       "(324584.6946868308+0j)"
      ]
     },
     "execution_count": 2,
     "metadata": {},
     "output_type": "execute_result"
    }
   ],
   "source": [
    "## Se define un cuadro de area \n",
    "import numpy as np\n",
    "\n",
    "def easy_function(x,y,L):\n",
    "    v0 = 30.\n",
    "    a = 4.\n",
    "    if -a/2.<=x<=a/2. and -a/2.<=y<=a/2.:\n",
    "        return 0\n",
    "    else:\n",
    "        i = complex(1)\n",
    "        knx,kny = 2.*np.pi/L*i,2.*np.pi/L*i  \n",
    "    return np.exp(i*(knx*y+kny*y))*v0\n",
    "        \n",
    "    \n",
    "def integrate(x1,x2,y1,y2,func,n,L):\n",
    "    X=np.linspace(x1,x2,1000)\n",
    "    Y = np.linspace(x1,x2,1000)\n",
    "    z1=0\n",
    "    aux = []\n",
    "    for i in range(len(X)):\n",
    "        aux+= [func(X[i],Y[i],L)]\n",
    "    z2 = max(aux)+1\n",
    "    print(z2)\n",
    "\n",
    "    #print(x1,x2,y1,y2)\n",
    "    Volumen = (x2-x1)*(y2-y1)*(z2-z1)\n",
    "    check=[]\n",
    "    xs=[]\n",
    "    ys=[]\n",
    "    zs = []\n",
    "    \n",
    "    for i in range(n):\n",
    "        x= np.random.uniform(x1,x2,1)\n",
    "        xs.append(x)\n",
    "        y=np.random.uniform(y1,y2,1)\n",
    "        ys.append(y)\n",
    "        z=np.random.uniform(z1,z2,1)\n",
    "        zs.append(z)\n",
    "        if abs(z)>abs(func(x,y,L)):\n",
    "            check.append(0)\n",
    "        else:\n",
    "            check.append(1)\n",
    "    return(np.mean(check)*Volumen)\n",
    "xi = -l/2.\n",
    "xf = l/2.\n",
    "yi = -l/2.\n",
    "yf = l/2.\n",
    "integrate(xi,xf,yi,yf,easy_function,100000,L)"
   ]
  },
  {
   "cell_type": "code",
   "execution_count": null,
   "metadata": {},
   "outputs": [],
   "source": []
  }
 ],
 "metadata": {
  "kernelspec": {
   "display_name": "Python 3",
   "language": "python",
   "name": "python3"
  },
  "language_info": {
   "codemirror_mode": {
    "name": "ipython",
    "version": 3
   },
   "file_extension": ".py",
   "mimetype": "text/x-python",
   "name": "python",
   "nbconvert_exporter": "python",
   "pygments_lexer": "ipython3",
   "version": "3.6.5"
  }
 },
 "nbformat": 4,
 "nbformat_minor": 2
}
