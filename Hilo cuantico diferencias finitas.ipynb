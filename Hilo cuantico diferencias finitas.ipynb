{
 "cells": [
  {
   "cell_type": "markdown",
   "metadata": {},
   "source": [
    "## Hilo cuántico 2D en diferencias finitas \n",
    "\n",
    "\n",
    "Referencias https://physics.stackexchange.com/questions/292492/finite-difference-method-applied-to-the-2d-time-independent-schr%C3%B6dinger-equation\n",
    "\n",
    "\n",
    "https://scicomp.stackexchange.com/questions/5655/2d-schr%C3%B6dinger-time-independent-finite-difference-and-eigenvalues\n",
    "\n",
    "\n",
    "\n",
    "![alt text](2finite.png \"Title\")\n",
    "\n",
    "\n",
    "\n"
   ]
  },
  {
   "cell_type": "markdown",
   "metadata": {},
   "source": [
    "![alt text](finite.png \"Title\")\n",
    "\n",
    "\n",
    "En este caso la ecuación esta adimencionalizada "
   ]
  },
  {
   "cell_type": "code",
   "execution_count": 128,
   "metadata": {},
   "outputs": [],
   "source": [
    "import numpy as np \n",
    "\n",
    "L = 4.\n",
    "a = 2.\n",
    "dx = 1. \n",
    "dy = 1.\n",
    "v0 = 30.\n",
    "n = 10\n",
    "\n",
    "\n",
    "def fbox(x,y,a,v0,dx,dy):\n",
    "    \n",
    "    if abs(x)<a/2. and abs(y)<a/2.:\n",
    "        return 0\n",
    "        \n",
    "    else:\n",
    "        return v0\n",
    "\n",
    "    \n",
    "# Suma de Potencial\n",
    "x =  np.arange(-L/2,L/2.,dx )\n",
    "y =  np.arange(-L/2,L/2.,dy )\n",
    "vec = []\n",
    "for j in range(len(x)):\n",
    "    for i in range(len(x)):\n",
    "        vec+=[4.+fbox(x[i],y[i],a,v0,dx,dy)]\n",
    "n = len(vec)\n",
    "        \n",
    "      \n",
    "Matrix = np.zeros((n,n))\n",
    "for j in range(n):\n",
    "        Matrix[j,j]=vec[j]\n",
    "    \n",
    "\n",
    "b=[34,-1,0,-1]+list(np.zeros(np.shape(Matrix)[0]-4))\n",
    "Matrix[0]=b"
   ]
  },
  {
   "cell_type": "code",
   "execution_count": 129,
   "metadata": {},
   "outputs": [],
   "source": [
    "# Fill Matrix \n",
    "c =0\n",
    "for j in range(n):\n",
    "    for i in range(n-1):\n",
    "        if i==j:\n",
    "            Matrix[j,i+1]=-1\n",
    "            c+=1\n",
    "            if c==3:\n",
    "                Matrix[j,i+1]=0\n",
    "                c=0 \n",
    "c=0\n",
    "for j in range(1,n):\n",
    "    for i in range(n):\n",
    "        if i==j:\n",
    "            Matrix[j,i-1]=-1\n",
    "            c+=1\n",
    "            if c==3:\n",
    "                Matrix[j,i-1]=0\n",
    "                c=0 \n",
    "                \n",
    "for j in range(n):\n",
    "    for i in range(n-3):\n",
    "        if i==j:\n",
    "            Matrix[j,i+3]=-1\n",
    "            \n",
    "for j in range(3,n):\n",
    "    for i in range(n):\n",
    "        if i==j:\n",
    "            Matrix[j,i-3]=-1\n",
    "            \n",
    "\n",
    "        "
   ]
  },
  {
   "cell_type": "code",
   "execution_count": 130,
   "metadata": {},
   "outputs": [
    {
     "name": "stdout",
     "output_type": "stream",
     "text": [
      "[[34. -1.  0. -1.  0.  0.  0.  0.  0.  0.  0.  0.  0.  0.  0.  0.]\n",
      " [-1. 34. -1.  0. -1.  0.  0.  0.  0.  0.  0.  0.  0.  0.  0.  0.]\n",
      " [ 0. -1.  4.  0.  0. -1.  0.  0.  0.  0.  0.  0.  0.  0.  0.  0.]\n",
      " [-1.  0.  0. 34. -1.  0. -1.  0.  0.  0.  0.  0.  0.  0.  0.  0.]\n",
      " [ 0. -1.  0. -1. 34. -1.  0. -1.  0.  0.  0.  0.  0.  0.  0.  0.]\n",
      " [ 0.  0. -1.  0. -1. 34.  0.  0. -1.  0.  0.  0.  0.  0.  0.  0.]\n",
      " [ 0.  0.  0. -1.  0.  0.  4. -1.  0. -1.  0.  0.  0.  0.  0.  0.]\n",
      " [ 0.  0.  0.  0. -1.  0. -1. 34. -1.  0. -1.  0.  0.  0.  0.  0.]\n",
      " [ 0.  0.  0.  0.  0. -1.  0. -1. 34.  0.  0. -1.  0.  0.  0.  0.]\n",
      " [ 0.  0.  0.  0.  0.  0. -1.  0.  0. 34. -1.  0. -1.  0.  0.  0.]\n",
      " [ 0.  0.  0.  0.  0.  0.  0. -1.  0. -1.  4. -1.  0. -1.  0.  0.]\n",
      " [ 0.  0.  0.  0.  0.  0.  0.  0. -1.  0. -1. 34.  0.  0. -1.  0.]\n",
      " [ 0.  0.  0.  0.  0.  0.  0.  0.  0. -1.  0.  0. 34. -1.  0. -1.]\n",
      " [ 0.  0.  0.  0.  0.  0.  0.  0.  0.  0. -1.  0. -1. 34. -1.  0.]\n",
      " [ 0.  0.  0.  0.  0.  0.  0.  0.  0.  0.  0. -1.  0. -1.  4.  0.]\n",
      " [ 0.  0.  0.  0.  0.  0.  0.  0.  0.  0.  0.  0. -1.  0.  0. 34.]]\n"
     ]
    }
   ],
   "source": [
    "print(Matrix)"
   ]
  },
  {
   "cell_type": "code",
   "execution_count": 125,
   "metadata": {},
   "outputs": [],
   "source": [
    "eigenvalues,eigenvectors = np.linalg.eig(Matrix)"
   ]
  },
  {
   "cell_type": "code",
   "execution_count": 127,
   "metadata": {},
   "outputs": [
    {
     "data": {
      "text/plain": [
       "array([ 3.79413605,  3.9915446 ,  3.93326023,  3.91531052, 36.52968588,\n",
       "       31.5524061 , 32.42379437, 32.29875906, 35.60905797, 35.76709715,\n",
       "       33.51331315, 34.52236367, 34.09702191, 34.03580724, 34.00202962,\n",
       "       34.01441246])"
      ]
     },
     "execution_count": 127,
     "metadata": {},
     "output_type": "execute_result"
    }
   ],
   "source": [
    "eigenvalues"
   ]
  },
  {
   "cell_type": "code",
   "execution_count": null,
   "metadata": {},
   "outputs": [],
   "source": []
  }
 ],
 "metadata": {
  "kernelspec": {
   "display_name": "Python 3",
   "language": "python",
   "name": "python3"
  },
  "language_info": {
   "codemirror_mode": {
    "name": "ipython",
    "version": 3
   },
   "file_extension": ".py",
   "mimetype": "text/x-python",
   "name": "python",
   "nbconvert_exporter": "python",
   "pygments_lexer": "ipython3",
   "version": "3.6.5"
  }
 },
 "nbformat": 4,
 "nbformat_minor": 2
}
