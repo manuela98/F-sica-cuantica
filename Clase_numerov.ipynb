{
 "cells": [
  {
   "cell_type": "markdown",
   "metadata": {},
   "source": [
    "#  Solución  Numerica de problemas  1D\n",
    "\n",
    "En general  la  ecuación de  Schrödinger  independiente del  tiempo en  1D es\n",
    "\n",
    "$-\\frac{\\hbar^2}{2m}\\frac{d^2}{dx^2}\\psi(x)+V(x)\\psi(x)=E\\psi(x)$\n",
    "\n",
    "reescribimos la   ecuación como :\n",
    "$\\frac{d^2}{dx^2}\\psi(x)=\\frac{2m}{\\hbar^2}(V(x)-E)\\psi(x)$.\n",
    "\n",
    "La forma  general  de esta  ecuación es \n",
    "\n",
    "$\\frac{d^2}{dx^2}\\psi(x)=f(x)\\psi(x)$\n",
    "\n",
    "donde\n",
    "\n",
    "$f(x)=\\frac{2m}{\\hbar^2}(V(x)-E)$\n",
    "\n",
    "## El  metodo de  Numerov\n",
    "\n",
    "Es un metodo  numerico  para  resolver  ecuaciones de la   forma $\\frac{d^2}{dx^2}\\psi(x)=f(x)\\psi(x)$\n",
    "\n",
    "\\begin{equation}\n",
    " \\psi(x+h) =\\psi(x)+h\\dot{\\psi}(x)+\\frac{h^2}{2!}\\ddot{\\psi}(x)+\\frac{h^3}{3!}\\dddot{\\psi}(x)+\\frac{h^4}{4!}\\ddddot{\\psi}+\\frac{h^5}{5!}\\dddot{\\ddot{\\psi}}(x)+O(h^6)\n",
    "\\end{equation}\n",
    "\n",
    "\\begin{equation}\n",
    " \\psi(x-h) =\\psi(x)-h\\dot{\\psi}(x)+\\frac{h^2}{2!}\\ddot{\\psi}(x)-\\frac{h^3}{3!}\\dddot{\\psi}(x)+\\frac{h^4}{4!}\\ddddot{\\psi}(x)-\\frac{h^5}{5!}\\dddot{\\ddot{\\psi}}(x)+O(h^6)\n",
    "\\end{equation}\n",
    "\n",
    "Al  sumar estas  dos  ecuaciones  tenemos:\n",
    "\n",
    "\\begin{equation}\n",
    " \\psi(x-h)+\\psi(x+h)-2\\psi(x)=h^2f(x)\\psi(x)+\\frac{h^4}{12}\\ddddot{\\psi}(x)\n",
    "\\end{equation}\n",
    "\n",
    "ahora  podemos   escribir la  cuarta  derivada  como :\n",
    "\n",
    "\\begin{equation}\n",
    "  \\ddddot{\\psi}(x) =\\frac{f(x+h)\\psi(x+h)+f(x-h)\\psi(x-h)-2f(x)\\psi(x)}{h^2}\n",
    "\\end{equation}\n",
    "\n",
    "Finalmente   encontramos  que \n",
    "\n",
    "\\begin{equation}\n",
    " \\psi(x+h) = \\frac{2\\psi(x)[1+\\frac{5}{12}h^2f(x)]-\\psi(x-h)[1+\\frac{h^2}{12}f(x-h)]}{1+\\frac{h^2}{12}f(x+h)}\n",
    "\\end{equation}"
   ]
  },
  {
   "cell_type": "code",
   "execution_count": null,
   "metadata": {},
   "outputs": [],
   "source": []
  }
 ],
 "metadata": {
  "kernelspec": {
   "display_name": "Python 3",
   "language": "python",
   "name": "python3"
  },
  "language_info": {
   "codemirror_mode": {
    "name": "ipython",
    "version": 3
   },
   "file_extension": ".py",
   "mimetype": "text/x-python",
   "name": "python",
   "nbconvert_exporter": "python",
   "pygments_lexer": "ipython3",
   "version": "3.5.2"
  }
 },
 "nbformat": 4,
 "nbformat_minor": 2
}
