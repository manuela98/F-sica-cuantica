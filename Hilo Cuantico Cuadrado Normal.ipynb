{
 "cells": [
  {
   "cell_type": "code",
   "execution_count": null,
   "metadata": {},
   "outputs": [],
   "source": [
    "import numpy as np\n",
    "from scipy.integrate import  dblquad\n",
    "\n",
    "\n",
    "\n",
    "def fbox_real(x,y,knx,kny,kmx,kmy):\n",
    "    \n",
    "    if abs(x)<a/2. and abs(y)<a/2.:\n",
    "        return 0\n",
    "    else:\n",
    "        return v0*np.cos((knx-kmx)*x+(kny-kmy)*y)\n",
    "\n",
    "def fbox_img(x,y,knx,kny,kmx,kmy):\n",
    "    \n",
    "    if abs(x)<a/2. and abs(y)<a/2.:\n",
    "        return 0\n",
    "    else:\n",
    "        return v0*np.sin((knx-kmx)*x+(kny-kmy)*y)    \n",
    "\n",
    "a = 4.\n",
    "L = 4.*a\n",
    "l = L\n",
    "v0 = 30.\n",
    "\n",
    "Nx = 25\n",
    "Ny = 25 \n",
    "\n",
    "kx = [2.*np.pi/L*i for i in range(-Nx,Nx)]\n",
    "ky = [2.*np.pi/L*i for i in range(-Ny,Ny)]\n",
    "\n",
    "H = np.zeros([np.shape(kx)[0]*np.shape(ky)[0],np.shape(kx)[0]*np.shape(ky)[0]],np.complex)\n",
    "S = np.zeros([np.shape(kx)[0]*np.shape(ky)[0],np.shape(kx)[0]*np.shape(ky)[0]],np.complex)\n",
    "\n",
    "                                 \n",
    "ind = []\n",
    "\n",
    "for i in range(-Nx,Nx):\n",
    "\tfor j in range(-Ny,Ny):\n",
    "\t\tind+=[(i,j)]\n",
    "\n",
    "for n in range(len(ind)):\n",
    "    for m in range(len(ind)):\n",
    "        knx =2.*np.pi*ind[n][0]/L\n",
    "        kny = 2.*np.pi*ind[n][1]/L\n",
    "        kmx = 2.*np.pi*ind[m][0]/L\n",
    "        kmy = 2.*np.pi*ind[m][1]/L\n",
    "\n",
    "        v_r = dblquad(fbox_real,-L/2.,L/2.,lambda x:-L/2.,lambda x: L/2.,args=(knx,kny,kmx,kmy)) \n",
    "        v_i = dblquad(fbox_img,-L/2.,L/2.,lambda x:-L/2.,lambda x: L/2.,args=(knx,kny,kmx,kmy))\n",
    "        if ind[n][0]==ind[m][0] and ind[n][1]==ind[m][1]:\n",
    "            H[n,m] = L**2*(knx**2 +kny**2)  #integral del laplaciano \n",
    "            S[n,m] = L**2 # integral de energia \n",
    "        H[n,m]+= v_r[0]+1j+v_i[0]\n",
    "    \n",
    "# INTEGRAL DEL POTENCIAL POR MONTECARLO \n",
    "print('OK')"
   ]
  },
  {
   "cell_type": "code",
   "execution_count": null,
   "metadata": {
    "collapsed": true
   },
   "outputs": [],
   "source": [
    "from scipy.linalg import eig \n",
    "e,c = eig(H,S)\n",
    "print(np.sort(e.real ))"
   ]
  },
  {
   "cell_type": "code",
   "execution_count": null,
   "metadata": {
    "collapsed": true
   },
   "outputs": [],
   "source": []
  }
 ],
 "metadata": {
  "kernelspec": {
   "display_name": "Python 3",
   "language": "python",
   "name": "python3"
  },
  "language_info": {
   "codemirror_mode": {
    "name": "ipython",
    "version": 3
   },
   "file_extension": ".py",
   "mimetype": "text/x-python",
   "name": "python",
   "nbconvert_exporter": "python",
   "pygments_lexer": "ipython3",
   "version": "3.6.5"
  }
 },
 "nbformat": 4,
 "nbformat_minor": 2
}
